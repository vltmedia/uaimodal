{
 "cells": [
  {
   "cell_type": "code",
   "execution_count": 1,
   "metadata": {},
   "outputs": [],
   "source": [
    "import sys, os\n",
    "sys.path.append(os.path.abspath( '..'))\n",
    "from modal import Image\n",
    "import uaimodal"
   ]
  },
  {
   "cell_type": "code",
   "execution_count": 2,
   "metadata": {},
   "outputs": [],
   "source": [
    "uModal.initUAIContainer(\"testToKill-01\", \"3.11\", \"usher.json\")\n"
   ]
  },
  {
   "cell_type": "code",
   "execution_count": 3,
   "metadata": {},
   "outputs": [
    {
     "data": {
      "text/plain": [
       "<modal.app.App at 0x1e8abb854c0>"
      ]
     },
     "execution_count": 3,
     "metadata": {},
     "output_type": "execute_result"
    }
   ],
   "source": [
    "image.app"
   ]
  },
  {
   "cell_type": "code",
   "execution_count": null,
   "metadata": {},
   "outputs": [],
   "source": [
    "uModal = uaimodal.initUAIContainer(\"testToKill-01\", python_version= \"3.11\",firebaseServiceJson= \"user.json\",cudaVersion=12.4, ffmpeg=True, newDirectories=[\"/root/datasets/input\"])\n",
    "uModal.installGitModule( \"https://github.com/OpenTalker/video-retalking\",\"/root\")\n",
    "uModal.downloadFile( \"http://commondatastorage.googleapis.com/gtv-videos-bucket/sample/BigBuckBunny.mp4\", \"/root/BigBuckBunny.mp4\" )\n",
    "uModal.copyLocalFileAndDirectories([[\"checkpoints.zip\", \"/root/checkpoints.zip\"]])\n",
    "uModal.unzipFile( \"/root/checkpoints.zip\", \"/root\")\n",
    "uModal.installCMake()\n",
    "uModal.installPythonRequirementsServer( \"/root/requirements.txt\")\n",
    "uModal.copyLocalFileAndDirectories( [\n",
    "    [\"usersilence.wav\", \"/root/usersilence.wav\"],\n",
    "    [\"short.wav\", \"/root/short.wav\"],\n",
    "    [\"testVideo.mp4\", \"/root/testVideo.mp4\"]\n",
    "    [\"extract_kp_videos.py\", \"/root/third_part/face3d/extract_kp_videos.py\"]\n",
    "                                ])\n",
    "# Always call this to apply the image to the application\n",
    "uModal.applyAppImage()\n",
    "app = uModal.app\n",
    "image = uModal.image\n",
    "\n",
    "uModal.runFunctions(image, [\n",
    "    {\"function\": runtest, \"gpu\": \"a100\"}\n",
    "])\n",
    "\n",
    "        \n",
    "\n",
    "\n",
    "def setupModalContainer():\n",
    "    from pathlib import Path\n",
    "    global image\n",
    "    global app\n",
    "    app = modal.App(\"bravo-retalker-v1-usher\")\n",
    "    # uaiApp = modal.App(\"bravouai-retalker-v1\")\n",
    "\n",
    "    image = (Image.debian_slim(python_version=\"3.9\")\n",
    "        \n",
    "        \n",
    "        .copy_local_file(\"usersilence.wav\", \"/root/usersilence.wav\")\n",
    "        .copy_local_file(\"short.wav\", \"/root/short.wav\")\n",
    "        .copy_local_file(\"testVideo.mp4\", \"/root/testVideo.mp4\")\n",
    "        .copy_local_file(\"usher.json\", \"/root/usher.json\")\n",
    "        \n",
    "        .pip_install([\"cuda-python\"])\n",
    "        .copy_local_file(\"cuda-keyring_1.1-1_all.deb\", \"/root/cuda-keyring_1.1-1_all.deb\")\n",
    "        .run_commands([\"apt-get install wget\",\"wget https://developer.download.nvidia.com/compute/cuda/12.4.1/local_installers/cuda-repo-debian11-12-4-local_12.4.1-550.54.15-1_amd64.deb\",\n",
    "\"dpkg -i cuda-repo-debian11-12-4-local_12.4.1-550.54.15-1_amd64.deb\",\n",
    "\"cp /var/cuda-repo-debian11-12-4-local/cuda-*-keyring.gpg /usr/share/keyrings/\",\n",
    "\"apt-get -y install software-properties-common\",\n",
    "\"add-apt-repository contrib\",\n",
    "\"apt-get update\",\n",
    "\"apt-get -y install cuda-toolkit-12-4\"\n",
    "                    ])\n",
    "        .env({\"CUDA_HOME\": \"/usr/local/cuda-12\"})\n",
    "        \n",
    "        .copy_local_file(\"inference.py\", \"/root/inference.py\")\n",
    "        .copy_local_file(\"appProcess.py\", \"/root/appProcess.py\")\n",
    "        .pip_install([\"moviepy\"])\n",
    "        .copy_local_file(\"extract_kp_videos.py\", \"/root/third_part/face3d/extract_kp_videos.py\")\n",
    "        .copy_local_file(\"Usher_Bamboo_Smile.mp4\", \"/root/Usher_Bamboo_Smile.mp4\")\n",
    "        .copy_local_file(\"inputFace.mp4\", \"/root/inputFace.mp4\")\n",
    "        .copy_local_file(\"uai.json\", \"/root/uai.json\")\n",
    "        .copy_local_file(\"SunglassesTest_512.mp4\", \"/root/SunglassesTest_512.mp4\")\n",
    "        .copy_local_file(\"SunglassesTest_720.mp4\", \"/root/SunglassesTest_720.mp4\")\n",
    "        .copy_local_file(\"SunglassesUsher_01_Idle.mp4\", \"/root/SunglassesUsher_01_Idle.mp4\")\n",
    "        .copy_local_file(\"Ush_Test_720.mp4\", \"/root/Ush_Test_720.mp4\")\n",
    "        .copy_local_file(\"UsherSunglasses_720.mp4\", \"/root/UsherSunglasses_720.mp4\")\n",
    "        .copy_local_file(\"output_stabilized.mp4\", \"/root/output_stabilized.mp4\")\n",
    "        .copy_local_file(\"testing_UsherAI_20240815_173435.mp4\", \"/root/testing_UsherAI_20240815_173435.mp4\")\n",
    "        .copy_local_file(\"GPEN-BFR-2048.pth\", \"/root/GPEN-BFR-2048.pth\")\n",
    "        .copy_local_file(\"Usher_Facetime_2_720.mp4\", \"/root/Usher_Facetime_2_720.mp4\")\n",
    "        .copy_local_file(\"Usher_Meta2_512.mp4\", \"/root/Usher_Meta2_512.mp4\")\n",
    "        .copy_local_file(\"Usher_Meta_512_sq.mp4\", \"/root/Usher_Meta_512_sq.mp4\")\n",
    "        .copy_local_file(\"Retalker_Usher_Selfie_NoLips.mp4\", \"/root/Retalker_Usher_Selfie_NoLips.mp4\")\n",
    "        \n",
    "        .run_function(runTest , gpu=\"a100\")\n",
    "        # .copy_local_file(\"requirements.txt\", \"/root/requirements.txt\")\n",
    "        # .run_commands([\"pip install -r /root/requirements.txt\"])\n",
    "        # .copy_local_file(\"GPT_SoVITS/inference.py\", \"/root/GPT_SoVITS/inference.py\")\n",
    "        # .pip_install([\"flask\", \"flask_cors\"])\n",
    "        # .copy_local_file(\"GPT_SoVITS/inference_api.py\", \"/root/GPT_SoVITS/inference_api.py\")\n",
    "        # .pip_install([\"openai\"])\n",
    "\n",
    "#         .run_commands([\"pip install torch torchvision torchaudio --index-url https://download.pytorch.org/whl/cu118 --upgrade\",\n",
    "# ])\n",
    "        \n",
    "#         .copy_local_file(\"cuda-keyring_1.1-1_all.deb\", \"/root/cuda-keyring_1.1-1_all.deb\")\n",
    "#         .run_commands([\"apt-get install wget -y\",\"wget https://developer.download.nvidia.com/compute/cuda/12.4.1/local_installers/cuda-repo-debian11-12-4-local_12.4.1-550.54.15-1_amd64.deb\",\n",
    "# \"dpkg -i cuda-repo-debian11-12-4-local_12.4.1-550.54.15-1_amd64.deb\",\n",
    "# \"cp /var/cuda-repo-debian11-12-4-local/cuda-*-keyring.gpg /usr/share/keyrings/\",\n",
    "# \"apt-get -y install software-properties-common\",\n",
    "# \"add-apt-repository contrib\",\n",
    "# \"apt-get update\",\n",
    "# \"apt-get -y install cuda-toolkit-12-4\"\n",
    "#                     ])\n",
    "#         .env({\"CUDA_HOME\": \"/usr/local/cuda-12\"})\n",
    "#         .run_commands([\"pip install torch==2.3.1 torchvision==0.18.1 torchaudio==2.3.1 --index-url https://download.pytorch.org/whl/cu121 --force-reinstall\",\n",
    "# ])\n",
    "        \n",
    "        # .run_function(runTestSuno, gpu=\"a100\")\n",
    "        \n",
    "    )\n",
    "    \n",
    "\n",
    "\n",
    "\n",
    "\n",
    "    app.image = image\n",
    "    # uaiApp.image = image\n",
    "    return app,image\n"
   ]
  },
  {
   "cell_type": "code",
   "execution_count": null,
   "metadata": {},
   "outputs": [],
   "source": []
  },
  {
   "cell_type": "code",
   "execution_count": null,
   "metadata": {},
   "outputs": [],
   "source": []
  }
 ],
 "metadata": {
  "kernelspec": {
   "display_name": "Python 3",
   "language": "python",
   "name": "python3"
  },
  "language_info": {
   "codemirror_mode": {
    "name": "ipython",
    "version": 3
   },
   "file_extension": ".py",
   "mimetype": "text/x-python",
   "name": "python",
   "nbconvert_exporter": "python",
   "pygments_lexer": "ipython3",
   "version": "3.9.13"
  }
 },
 "nbformat": 4,
 "nbformat_minor": 2
}
